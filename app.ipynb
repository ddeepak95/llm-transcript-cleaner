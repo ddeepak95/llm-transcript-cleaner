{
 "cells": [
  {
   "cell_type": "markdown",
   "metadata": {},
   "source": [
    "# Initialize the functions"
   ]
  },
  {
   "cell_type": "code",
   "execution_count": 3,
   "metadata": {},
   "outputs": [],
   "source": [
    "from functions import clean_txt_file"
   ]
  },
  {
   "cell_type": "markdown",
   "metadata": {},
   "source": [
    "# Set the file locations and run the functions"
   ]
  },
  {
   "cell_type": "code",
   "execution_count": 4,
   "metadata": {},
   "outputs": [
    {
     "name": "stdout",
     "output_type": "stream",
     "text": [
      "Processing chunk 1/12\n",
      "Processing chunk 2/12\n",
      "Processing chunk 3/12\n",
      "Processing chunk 4/12\n",
      "Processing chunk 5/12\n",
      "Processing chunk 6/12\n",
      "Processing chunk 7/12\n",
      "Processing chunk 8/12\n",
      "Processing chunk 9/12\n",
      "Processing chunk 10/12\n",
      "Processing chunk 11/12\n",
      "Processing chunk 12/12\n",
      "Cleaned transcript saved to ./data/clean/shivakumara_clean.txt\n"
     ]
    }
   ],
   "source": [
    "input_file = \"./path/to/input_file.txt\"\n",
    "output_file = \"./path/to/desired_output_location.txt\"\n",
    "\n",
    "# system message for AI\n",
    "system_message = \"\"\"You are cleaning a transcript. Your task is to:\n",
    "            1. Fix any obvious transcription errors\n",
    "            2. Maintain the speaking style and informality while making the text more readable and continuous\n",
    "            3. Keep all original meaning intact\n",
    "            4. Use the previous context to maintain consistency\n",
    "            5. In some cases, the text from a speaker might get added to the next speaker. Ensure that the diarization is done properly. Combine the text if needed. But apply extra caution while combining multiple blocks into one\n",
    "            6. Remove fillers like \"um\", \"uh\", \"you know\", repeated \"okays\" that are redundant.\n",
    "            Background to the conversation: State the context of the conversation, if it is not clear from the text. For example, \"The speaker is explaining the process of photosynthesis to a group of students.\"\n",
    "            \"\"\"\n",
    "\n",
    "clean_txt_file(input_file, output_file, chunk_size=10, system_message=system_message)"
   ]
  }
 ],
 "metadata": {
  "kernelspec": {
   "display_name": ".venv",
   "language": "python",
   "name": "python3"
  },
  "language_info": {
   "codemirror_mode": {
    "name": "ipython",
    "version": 3
   },
   "file_extension": ".py",
   "mimetype": "text/x-python",
   "name": "python",
   "nbconvert_exporter": "python",
   "pygments_lexer": "ipython3",
   "version": "3.11.9"
  }
 },
 "nbformat": 4,
 "nbformat_minor": 2
}
